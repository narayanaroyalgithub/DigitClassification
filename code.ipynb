{
 "cells": [
  {
   "cell_type": "markdown",
   "id": "b731411c",
   "metadata": {},
   "source": [
    "# Project 3\n",
    "\n",
    "## Team Members: \n",
    "### Marisetty Narayanaroyal (50541106) \n",
    "### Ruthvik Bathala (50544944)"
   ]
  },
  {
   "cell_type": "code",
   "execution_count": 134,
   "id": "0eb040b2",
   "metadata": {},
   "outputs": [],
   "source": [
    "# Code:"
   ]
  },
  {
   "cell_type": "markdown",
   "id": "ad498fd5",
   "metadata": {},
   "source": [
    "# Loading data"
   ]
  },
  {
   "cell_type": "code",
   "execution_count": 135,
   "id": "381b93a0",
   "metadata": {},
   "outputs": [],
   "source": [
    "from keras.datasets import mnist\n",
    "\n",
    "(train_X, train_y), (test_X, test_y) = mnist.load_data()"
   ]
  },
  {
   "cell_type": "code",
   "execution_count": 136,
   "id": "0d9a3525",
   "metadata": {},
   "outputs": [
    {
     "data": {
      "text/plain": [
       "(60000, 28, 28)"
      ]
     },
     "execution_count": 136,
     "metadata": {},
     "output_type": "execute_result"
    }
   ],
   "source": [
    "# viewing total number of images\n",
    "train_X.shape"
   ]
  },
  {
   "cell_type": "code",
   "execution_count": 137,
   "id": "786e739a",
   "metadata": {},
   "outputs": [
    {
     "data": {
      "text/plain": [
       "array([7, 2, 1, ..., 4, 5, 6], dtype=uint8)"
      ]
     },
     "execution_count": 137,
     "metadata": {},
     "output_type": "execute_result"
    }
   ],
   "source": [
    "test_y"
   ]
  },
  {
   "cell_type": "code",
   "execution_count": 138,
   "id": "4325fe1e",
   "metadata": {},
   "outputs": [
    {
     "data": {
      "text/plain": [
       "array([[[0, 0, 0, ..., 0, 0, 0],\n",
       "        [0, 0, 0, ..., 0, 0, 0],\n",
       "        [0, 0, 0, ..., 0, 0, 0],\n",
       "        ...,\n",
       "        [0, 0, 0, ..., 0, 0, 0],\n",
       "        [0, 0, 0, ..., 0, 0, 0],\n",
       "        [0, 0, 0, ..., 0, 0, 0]],\n",
       "\n",
       "       [[0, 0, 0, ..., 0, 0, 0],\n",
       "        [0, 0, 0, ..., 0, 0, 0],\n",
       "        [0, 0, 0, ..., 0, 0, 0],\n",
       "        ...,\n",
       "        [0, 0, 0, ..., 0, 0, 0],\n",
       "        [0, 0, 0, ..., 0, 0, 0],\n",
       "        [0, 0, 0, ..., 0, 0, 0]],\n",
       "\n",
       "       [[0, 0, 0, ..., 0, 0, 0],\n",
       "        [0, 0, 0, ..., 0, 0, 0],\n",
       "        [0, 0, 0, ..., 0, 0, 0],\n",
       "        ...,\n",
       "        [0, 0, 0, ..., 0, 0, 0],\n",
       "        [0, 0, 0, ..., 0, 0, 0],\n",
       "        [0, 0, 0, ..., 0, 0, 0]],\n",
       "\n",
       "       ...,\n",
       "\n",
       "       [[0, 0, 0, ..., 0, 0, 0],\n",
       "        [0, 0, 0, ..., 0, 0, 0],\n",
       "        [0, 0, 0, ..., 0, 0, 0],\n",
       "        ...,\n",
       "        [0, 0, 0, ..., 0, 0, 0],\n",
       "        [0, 0, 0, ..., 0, 0, 0],\n",
       "        [0, 0, 0, ..., 0, 0, 0]],\n",
       "\n",
       "       [[0, 0, 0, ..., 0, 0, 0],\n",
       "        [0, 0, 0, ..., 0, 0, 0],\n",
       "        [0, 0, 0, ..., 0, 0, 0],\n",
       "        ...,\n",
       "        [0, 0, 0, ..., 0, 0, 0],\n",
       "        [0, 0, 0, ..., 0, 0, 0],\n",
       "        [0, 0, 0, ..., 0, 0, 0]],\n",
       "\n",
       "       [[0, 0, 0, ..., 0, 0, 0],\n",
       "        [0, 0, 0, ..., 0, 0, 0],\n",
       "        [0, 0, 0, ..., 0, 0, 0],\n",
       "        ...,\n",
       "        [0, 0, 0, ..., 0, 0, 0],\n",
       "        [0, 0, 0, ..., 0, 0, 0],\n",
       "        [0, 0, 0, ..., 0, 0, 0]]], dtype=uint8)"
      ]
     },
     "execution_count": 138,
     "metadata": {},
     "output_type": "execute_result"
    }
   ],
   "source": [
    "train_X"
   ]
  },
  {
   "cell_type": "code",
   "execution_count": 5,
   "id": "fdb1fc92",
   "metadata": {},
   "outputs": [
    {
     "data": {
      "text/plain": [
       "(28, 28)"
      ]
     },
     "execution_count": 5,
     "metadata": {},
     "output_type": "execute_result"
    }
   ],
   "source": [
    "#checking for each image which has how many number of pixels\n",
    "train_X[0].shape"
   ]
  },
  {
   "cell_type": "code",
   "execution_count": 6,
   "id": "d7014540",
   "metadata": {},
   "outputs": [
    {
     "data": {
      "text/plain": [
       "(60000,)"
      ]
     },
     "execution_count": 6,
     "metadata": {},
     "output_type": "execute_result"
    }
   ],
   "source": [
    "train_y.shape"
   ]
  },
  {
   "cell_type": "code",
   "execution_count": 7,
   "id": "d97299da",
   "metadata": {},
   "outputs": [
    {
     "data": {
      "text/plain": [
       "array([5, 0, 4, ..., 5, 6, 8], dtype=uint8)"
      ]
     },
     "execution_count": 7,
     "metadata": {},
     "output_type": "execute_result"
    }
   ],
   "source": [
    "#target representing integer(from 0 to 9) for each image\n",
    "train_y"
   ]
  },
  {
   "cell_type": "code",
   "execution_count": 8,
   "id": "735f1ef8",
   "metadata": {},
   "outputs": [
    {
     "data": {
      "image/png": "[encoded data removed]",
      "text/plain": [
       "<Figure size 432x288 with 1 Axes>"
      ]
     },
     "metadata": {
      "needs_background": "light"
     },
     "output_type": "display_data"
    }
   ],
   "source": [
    "import matplotlib.pyplot as plt\n",
    "plt.imshow(train_X[5],cmap='gray')\n",
    "plt.grid(True, color='white', linewidth=1)"
   ]
  },
  {
   "cell_type": "code",
   "execution_count": 9,
   "id": "9cab82e0",
   "metadata": {},
   "outputs": [
    {
     "data": {
      "text/plain": [
       "2"
      ]
     },
     "execution_count": 9,
     "metadata": {},
     "output_type": "execute_result"
    }
   ],
   "source": [
    "train_y[5]"
   ]
  },
  {
   "cell_type": "code",
   "execution_count": 10,
   "id": "8ea2c23a",
   "metadata": {},
   "outputs": [
    {
     "data": {
      "text/plain": [
       "(10000,)"
      ]
     },
     "execution_count": 10,
     "metadata": {},
     "output_type": "execute_result"
    }
   ],
   "source": [
    "test_y.shape"
   ]
  },
  {
   "cell_type": "markdown",
   "id": "a5817eb0",
   "metadata": {},
   "source": [
    "# Data Preprocessing"
   ]
  },
  {
   "cell_type": "code",
   "execution_count": 11,
   "id": "4802b5fa",
   "metadata": {},
   "outputs": [],
   "source": [
    "import numpy as np\n",
    "def null(x):\n",
    "    a = np.isnan(x) \n",
    "    if np.sum(np.isnan(train_X))!=0:\n",
    "        print('There are null values')\n",
    "    else:\n",
    "        print('There are no null values')"
   ]
  },
  {
   "cell_type": "code",
   "execution_count": 12,
   "id": "05c8b459",
   "metadata": {},
   "outputs": [
    {
     "name": "stdout",
     "output_type": "stream",
     "text": [
      "There are no null values\n"
     ]
    }
   ],
   "source": [
    "null(train_X)"
   ]
  },
  {
   "cell_type": "code",
   "execution_count": 13,
   "id": "e12dfb3f",
   "metadata": {},
   "outputs": [
    {
     "name": "stdout",
     "output_type": "stream",
     "text": [
      "There are no null values\n"
     ]
    }
   ],
   "source": [
    "null(train_y)"
   ]
  },
  {
   "cell_type": "code",
   "execution_count": 14,
   "id": "b6029cc5",
   "metadata": {},
   "outputs": [
    {
     "name": "stdout",
     "output_type": "stream",
     "text": [
      "There are no null values\n"
     ]
    }
   ],
   "source": [
    "null(test_X)"
   ]
  },
  {
   "cell_type": "code",
   "execution_count": 15,
   "id": "35e368f0",
   "metadata": {},
   "outputs": [
    {
     "name": "stdout",
     "output_type": "stream",
     "text": [
      "There are no null values\n"
     ]
    }
   ],
   "source": [
    "null(test_y)"
   ]
  },
  {
   "cell_type": "code",
   "execution_count": 16,
   "id": "c2fd7840",
   "metadata": {},
   "outputs": [
    {
     "data": {
      "text/plain": [
       "array([  0,   0,   0,   0,   0,   0,   0,   0,   0,  14,   1, 154, 253,\n",
       "        90,   0,   0,   0,   0,   0,   0,   0,   0,   0,   0,   0,   0,\n",
       "         0,   0], dtype=uint8)"
      ]
     },
     "execution_count": 16,
     "metadata": {},
     "output_type": "execute_result"
    }
   ],
   "source": [
    "train_X[0][10]"
   ]
  },
  {
   "cell_type": "code",
   "execution_count": 139,
   "id": "f8720a22",
   "metadata": {},
   "outputs": [],
   "source": [
    "# reshaping the data for model fitting"
   ]
  },
  {
   "cell_type": "code",
   "execution_count": 17,
   "id": "377214d6",
   "metadata": {},
   "outputs": [],
   "source": [
    "train_X_2d = train_X.reshape(train_X.shape[0],-1)\n",
    "test_X_2d = test_X.reshape(test_X.shape[0],-1)"
   ]
  },
  {
   "cell_type": "code",
   "execution_count": 141,
   "id": "d9b51b7b",
   "metadata": {},
   "outputs": [],
   "source": [
    "# Checking the accuracy for the model before normalising "
   ]
  },
  {
   "cell_type": "code",
   "execution_count": 18,
   "id": "173205a0",
   "metadata": {},
   "outputs": [
    {
     "name": "stderr",
     "output_type": "stream",
     "text": [
      "2024-04-25 09:15:28.643477: I tensorflow/core/platform/cpu_feature_guard.cc:193] This TensorFlow binary is optimized with oneAPI Deep Neural Network Library (oneDNN) to use the following CPU instructions in performance-critical operations:  AVX2 FMA\n",
      "To enable them in other operations, rebuild TensorFlow with the appropriate compiler flags.\n"
     ]
    },
    {
     "name": "stdout",
     "output_type": "stream",
     "text": [
      "Epoch 1/5\n",
      "1875/1875 [==============================] - 3s 1ms/step - loss: 9.6195 - accuracy: 0.8409\n",
      "Epoch 2/5\n",
      "1875/1875 [==============================] - 2s 1ms/step - loss: 6.1177 - accuracy: 0.8795\n",
      "Epoch 3/5\n",
      "1875/1875 [==============================] - 2s 1ms/step - loss: 5.7858 - accuracy: 0.8806\n",
      "Epoch 4/5\n",
      "1875/1875 [==============================] - 2s 1ms/step - loss: 5.4701 - accuracy: 0.8863\n",
      "Epoch 5/5\n",
      "1875/1875 [==============================] - 2s 1ms/step - loss: 5.4001 - accuracy: 0.8866\n"
     ]
    },
    {
     "data": {
      "text/plain": [
       "<keras.callbacks.History at 0x1299336a0>"
      ]
     },
     "execution_count": 18,
     "metadata": {},
     "output_type": "execute_result"
    }
   ],
   "source": [
    "from tensorflow import keras\n",
    "model = keras.Sequential([\n",
    "    keras.layers.Dense(10,input_shape=(784,),activation='sigmoid')\n",
    "])\n",
    "model.compile(optimizer='adam',loss='sparse_categorical_crossentropy', metrics=['accuracy'])\n",
    "\n",
    "model.fit(train_X_2d,train_y,epochs=5)"
   ]
  },
  {
   "cell_type": "code",
   "execution_count": 140,
   "id": "3590db73",
   "metadata": {},
   "outputs": [],
   "source": [
    "# Normalising data by dividing the values by 255"
   ]
  },
  {
   "cell_type": "code",
   "execution_count": 19,
   "id": "00facd3b",
   "metadata": {},
   "outputs": [],
   "source": [
    "def normalise(df):\n",
    "    return df/255"
   ]
  },
  {
   "cell_type": "code",
   "execution_count": 20,
   "id": "43c0ee79",
   "metadata": {},
   "outputs": [],
   "source": [
    "train_X = normalise(train_X)"
   ]
  },
  {
   "cell_type": "code",
   "execution_count": 21,
   "id": "00e9cb75",
   "metadata": {},
   "outputs": [],
   "source": [
    "test_X = normalise(test_X)"
   ]
  },
  {
   "cell_type": "code",
   "execution_count": 22,
   "id": "6877e2cf",
   "metadata": {},
   "outputs": [
    {
     "data": {
      "text/plain": [
       "array([0.        , 0.        , 0.        , 0.        , 0.        ,\n",
       "       0.        , 0.        , 0.        , 0.        , 0.05490196,\n",
       "       0.00392157, 0.60392157, 0.99215686, 0.35294118, 0.        ,\n",
       "       0.        , 0.        , 0.        , 0.        , 0.        ,\n",
       "       0.        , 0.        , 0.        , 0.        , 0.        ,\n",
       "       0.        , 0.        , 0.        ])"
      ]
     },
     "execution_count": 22,
     "metadata": {},
     "output_type": "execute_result"
    }
   ],
   "source": [
    "train_X[0][10]"
   ]
  },
  {
   "cell_type": "code",
   "execution_count": 23,
   "id": "6ad20751",
   "metadata": {},
   "outputs": [
    {
     "data": {
      "text/plain": [
       "array([0.        , 0.        , 0.        , 0.        , 0.        ,\n",
       "       0.        , 0.        , 0.        , 0.        , 0.        ,\n",
       "       0.        , 0.06666667, 0.25882353, 0.05490196, 0.2627451 ,\n",
       "       0.2627451 , 0.2627451 , 0.23137255, 0.08235294, 0.9254902 ,\n",
       "       0.99607843, 0.41568627, 0.        , 0.        , 0.        ,\n",
       "       0.        , 0.        , 0.        ])"
      ]
     },
     "execution_count": 23,
     "metadata": {},
     "output_type": "execute_result"
    }
   ],
   "source": [
    "test_X[0][10]"
   ]
  },
  {
   "cell_type": "code",
   "execution_count": 142,
   "id": "901673d1",
   "metadata": {},
   "outputs": [],
   "source": [
    "# Checking the accuracy for the model after normalising and we can see that there is an increase just because of \n",
    "# normalising the data "
   ]
  },
  {
   "cell_type": "code",
   "execution_count": 25,
   "id": "abc05e80",
   "metadata": {},
   "outputs": [
    {
     "name": "stdout",
     "output_type": "stream",
     "text": [
      "Epoch 1/5\n",
      "1875/1875 [==============================] - 3s 1ms/step - loss: 0.4679 - accuracy: 0.8771\n",
      "Epoch 2/5\n",
      "1875/1875 [==============================] - 2s 1ms/step - loss: 0.3037 - accuracy: 0.9155\n",
      "Epoch 3/5\n",
      "1875/1875 [==============================] - 2s 1ms/step - loss: 0.2832 - accuracy: 0.9214\n",
      "Epoch 4/5\n",
      "1875/1875 [==============================] - 2s 1ms/step - loss: 0.2729 - accuracy: 0.9235\n",
      "Epoch 5/5\n",
      "1875/1875 [==============================] - 2s 1ms/step - loss: 0.2669 - accuracy: 0.9259\n"
     ]
    },
    {
     "data": {
      "text/plain": [
       "<keras.callbacks.History at 0x12a0d3fa0>"
      ]
     },
     "execution_count": 25,
     "metadata": {},
     "output_type": "execute_result"
    }
   ],
   "source": [
    "from tensorflow import keras\n",
    "model = keras.Sequential([\n",
    "    keras.layers.Dense(10,input_shape=(784,),activation='sigmoid')\n",
    "])\n",
    "model.compile(optimizer='adam',loss='sparse_categorical_crossentropy', metrics=['accuracy'])\n",
    "\n",
    "model.fit(train_X_2d,train_y,epochs=5)"
   ]
  },
  {
   "cell_type": "code",
   "execution_count": 153,
   "id": "c9fd9f71",
   "metadata": {},
   "outputs": [],
   "source": [
    "train_X_2d = train_X.reshape(train_X.shape[0],-1)\n",
    "test_X_2d = test_X.reshape(test_X.shape[0],-1)"
   ]
  },
  {
   "cell_type": "markdown",
   "id": "716c10cc",
   "metadata": {},
   "source": [
    "# Model training with default parameters"
   ]
  },
  {
   "cell_type": "code",
   "execution_count": 27,
   "id": "c179f6d9",
   "metadata": {},
   "outputs": [
    {
     "name": "stdout",
     "output_type": "stream",
     "text": [
      "Accuracy of Logistic Regression model: 0.9258\n"
     ]
    },
    {
     "name": "stderr",
     "output_type": "stream",
     "text": [
      "/Library/Frameworks/Python.framework/Versions/3.10/lib/python3.10/site-packages/sklearn/linear_model/_logistic.py:469: ConvergenceWarning: lbfgs failed to converge (status=1):\n",
      "STOP: TOTAL NO. of ITERATIONS REACHED LIMIT.\n",
      "\n",
      "Increase the number of iterations (max_iter) or scale the data as shown in:\n",
      "    https://scikit-learn.org/stable/modules/preprocessing.html\n",
      "Please also refer to the documentation for alternative solver options:\n",
      "    https://scikit-learn.org/stable/modules/linear_model.html#logistic-regression\n",
      "  n_iter_i = _check_optimize_result(\n"
     ]
    }
   ],
   "source": [
    "from sklearn.linear_model import LogisticRegression\n",
    "from sklearn.metrics import accuracy_score\n",
    "\n",
    "lgr = LogisticRegression()\n",
    "lgr.fit(train_X_2d, train_y)\n",
    "lgr_predict = lgr.predict(test_X_2d)\n",
    "accuracy = accuracy_score(test_y, lgr_predict)\n",
    "print(\"Accuracy of Logistic Regression model:\", accuracy)"
   ]
  },
  {
   "cell_type": "code",
   "execution_count": 28,
   "id": "fa367764",
   "metadata": {},
   "outputs": [
    {
     "name": "stdout",
     "output_type": "stream",
     "text": [
      "Accuracy of SVM model: 0.9792\n"
     ]
    }
   ],
   "source": [
    "from sklearn.svm import SVC\n",
    "\n",
    "svmc = SVC()\n",
    "svmc.fit(train_X_2d, train_y)\n",
    "svmc_predict = svmc.predict(test_X_2d)\n",
    "svmc_accuracy = accuracy_score(test_y, svmc_predict)\n",
    "print(\"Accuracy of SVM model:\", svmc_accuracy)"
   ]
  },
  {
   "cell_type": "code",
   "execution_count": 29,
   "id": "5314c1d2",
   "metadata": {},
   "outputs": [
    {
     "name": "stdout",
     "output_type": "stream",
     "text": [
      "Accuracy of Random Forest model: 0.9704\n"
     ]
    }
   ],
   "source": [
    "from sklearn.ensemble import RandomForestClassifier\n",
    "\n",
    "rf = RandomForestClassifier(n_estimators=100, random_state=42)\n",
    "rf.fit(train_X_2d, train_y)\n",
    "rf_predict = rf.predict(test_X_2d)\n",
    "rf_accuracy = accuracy_score(test_y, rf_predict)\n",
    "print(\"Accuracy of Random Forest model:\", rf_accuracy)"
   ]
  },
  {
   "cell_type": "code",
   "execution_count": 30,
   "id": "230a544c",
   "metadata": {},
   "outputs": [
    {
     "name": "stdout",
     "output_type": "stream",
     "text": [
      "Epoch 1/10\n",
      "1875/1875 [==============================] - 25s 13ms/step - loss: 0.1305 - accuracy: 0.9596\n",
      "Epoch 2/10\n",
      "1875/1875 [==============================] - 25s 13ms/step - loss: 0.0426 - accuracy: 0.9865\n",
      "Epoch 3/10\n",
      "1875/1875 [==============================] - 26s 14ms/step - loss: 0.0282 - accuracy: 0.9913\n",
      "Epoch 4/10\n",
      "1875/1875 [==============================] - 27s 14ms/step - loss: 0.0205 - accuracy: 0.9935\n",
      "Epoch 5/10\n",
      "1875/1875 [==============================] - 24s 13ms/step - loss: 0.0157 - accuracy: 0.9948\n",
      "Epoch 6/10\n",
      "1875/1875 [==============================] - 25s 13ms/step - loss: 0.0105 - accuracy: 0.9966\n",
      "Epoch 7/10\n",
      "1875/1875 [==============================] - 24s 13ms/step - loss: 0.0093 - accuracy: 0.9969\n",
      "Epoch 8/10\n",
      "1875/1875 [==============================] - 24s 13ms/step - loss: 0.0079 - accuracy: 0.9974\n",
      "Epoch 9/10\n",
      "1875/1875 [==============================] - 23s 13ms/step - loss: 0.0070 - accuracy: 0.9974\n",
      "Epoch 10/10\n",
      "1875/1875 [==============================] - 23s 12ms/step - loss: 0.0063 - accuracy: 0.9979\n",
      "313/313 [==============================] - 1s 4ms/step - loss: 0.0352 - accuracy: 0.9919\n",
      "Accuracy: 0.9919000267982483\n"
     ]
    }
   ],
   "source": [
    "import keras\n",
    "from keras.layers import Dense, Flatten, Conv2D, MaxPooling2D\n",
    "from keras.models import Sequential\n",
    "\n",
    "model = Sequential()\n",
    "\n",
    "model.add(Conv2D(32, (3, 3), activation='relu', input_shape=(28, 28, 1)))\n",
    "model.add(MaxPooling2D(pool_size=(2, 2)))\n",
    "model.add(Conv2D(64, (3, 3), activation='relu'))\n",
    "model.add(MaxPooling2D(pool_size=(2, 2)))\n",
    "model.add(Flatten())\n",
    "model.add(Dense(128, activation='relu'))\n",
    "model.add(Dense(10, activation='softmax'))\n",
    "model.compile(loss='categorical_crossentropy', optimizer='adam', metrics=['accuracy'])\n",
    "\n",
    "\n",
    "model.fit(train_X_2d.reshape(-1, 28, 28, 1), keras.utils.to_categorical(train_y, 10), epochs=10, batch_size=32)\n",
    "\n",
    "loss, accuracy = model.evaluate(test_X_2d.reshape(-1, 28, 28, 1), keras.utils.to_categorical(test_y, 10), batch_size=32)\n",
    "print(\"Accuracy:\", accuracy)"
   ]
  },
  {
   "cell_type": "markdown",
   "id": "5d3f99b3",
   "metadata": {},
   "source": [
    "# Model training with hyperparameter tuning "
   ]
  },
  {
   "cell_type": "code",
   "execution_count": 145,
   "id": "d75cfb45",
   "metadata": {},
   "outputs": [],
   "source": [
    "# Logistic Regression"
   ]
  },
  {
   "cell_type": "code",
   "execution_count": 31,
   "id": "dfbed799",
   "metadata": {},
   "outputs": [
    {
     "name": "stderr",
     "output_type": "stream",
     "text": [
      "/Library/Frameworks/Python.framework/Versions/3.10/lib/python3.10/site-packages/sklearn/linear_model/_logistic.py:469: ConvergenceWarning: lbfgs failed to converge (status=1):\n",
      "STOP: TOTAL NO. of ITERATIONS REACHED LIMIT.\n",
      "\n",
      "Increase the number of iterations (max_iter) or scale the data as shown in:\n",
      "    https://scikit-learn.org/stable/modules/preprocessing.html\n",
      "Please also refer to the documentation for alternative solver options:\n",
      "    https://scikit-learn.org/stable/modules/linear_model.html#logistic-regression\n",
      "  n_iter_i = _check_optimize_result(\n",
      "/Library/Frameworks/Python.framework/Versions/3.10/lib/python3.10/site-packages/sklearn/linear_model/_logistic.py:469: ConvergenceWarning: lbfgs failed to converge (status=1):\n",
      "STOP: TOTAL NO. of ITERATIONS REACHED LIMIT.\n",
      "\n",
      "Increase the number of iterations (max_iter) or scale the data as shown in:\n",
      "    https://scikit-learn.org/stable/modules/preprocessing.html\n",
      "Please also refer to the documentation for alternative solver options:\n",
      "    https://scikit-learn.org/stable/modules/linear_model.html#logistic-regression\n",
      "  n_iter_i = _check_optimize_result(\n",
      "/Library/Frameworks/Python.framework/Versions/3.10/lib/python3.10/site-packages/sklearn/linear_model/_logistic.py:469: ConvergenceWarning: lbfgs failed to converge (status=1):\n",
      "STOP: TOTAL NO. of ITERATIONS REACHED LIMIT.\n",
      "\n",
      "Increase the number of iterations (max_iter) or scale the data as shown in:\n",
      "    https://scikit-learn.org/stable/modules/preprocessing.html\n",
      "Please also refer to the documentation for alternative solver options:\n",
      "    https://scikit-learn.org/stable/modules/linear_model.html#logistic-regression\n",
      "  n_iter_i = _check_optimize_result(\n",
      "/Library/Frameworks/Python.framework/Versions/3.10/lib/python3.10/site-packages/sklearn/linear_model/_logistic.py:469: ConvergenceWarning: lbfgs failed to converge (status=1):\n",
      "STOP: TOTAL NO. of ITERATIONS REACHED LIMIT.\n",
      "\n",
      "Increase the number of iterations (max_iter) or scale the data as shown in:\n",
      "    https://scikit-learn.org/stable/modules/preprocessing.html\n",
      "Please also refer to the documentation for alternative solver options:\n",
      "    https://scikit-learn.org/stable/modules/linear_model.html#logistic-regression\n",
      "  n_iter_i = _check_optimize_result(\n",
      "/Library/Frameworks/Python.framework/Versions/3.10/lib/python3.10/site-packages/sklearn/linear_model/_logistic.py:469: ConvergenceWarning: lbfgs failed to converge (status=1):\n",
      "STOP: TOTAL NO. of ITERATIONS REACHED LIMIT.\n",
      "\n",
      "Increase the number of iterations (max_iter) or scale the data as shown in:\n",
      "    https://scikit-learn.org/stable/modules/preprocessing.html\n",
      "Please also refer to the documentation for alternative solver options:\n",
      "    https://scikit-learn.org/stable/modules/linear_model.html#logistic-regression\n",
      "  n_iter_i = _check_optimize_result(\n",
      "/Library/Frameworks/Python.framework/Versions/3.10/lib/python3.10/site-packages/sklearn/linear_model/_logistic.py:469: ConvergenceWarning: lbfgs failed to converge (status=1):\n",
      "STOP: TOTAL NO. of ITERATIONS REACHED LIMIT.\n",
      "\n",
      "Increase the number of iterations (max_iter) or scale the data as shown in:\n",
      "    https://scikit-learn.org/stable/modules/preprocessing.html\n",
      "Please also refer to the documentation for alternative solver options:\n",
      "    https://scikit-learn.org/stable/modules/linear_model.html#logistic-regression\n",
      "  n_iter_i = _check_optimize_result(\n",
      "/Library/Frameworks/Python.framework/Versions/3.10/lib/python3.10/site-packages/sklearn/linear_model/_logistic.py:469: ConvergenceWarning: lbfgs failed to converge (status=1):\n",
      "STOP: TOTAL NO. of ITERATIONS REACHED LIMIT.\n",
      "\n",
      "Increase the number of iterations (max_iter) or scale the data as shown in:\n",
      "    https://scikit-learn.org/stable/modules/preprocessing.html\n",
      "Please also refer to the documentation for alternative solver options:\n",
      "    https://scikit-learn.org/stable/modules/linear_model.html#logistic-regression\n",
      "  n_iter_i = _check_optimize_result(\n",
      "/Library/Frameworks/Python.framework/Versions/3.10/lib/python3.10/site-packages/sklearn/linear_model/_logistic.py:469: ConvergenceWarning: lbfgs failed to converge (status=1):\n",
      "STOP: TOTAL NO. of ITERATIONS REACHED LIMIT.\n",
      "\n",
      "Increase the number of iterations (max_iter) or scale the data as shown in:\n",
      "    https://scikit-learn.org/stable/modules/preprocessing.html\n",
      "Please also refer to the documentation for alternative solver options:\n",
      "    https://scikit-learn.org/stable/modules/linear_model.html#logistic-regression\n",
      "  n_iter_i = _check_optimize_result(\n",
      "/Library/Frameworks/Python.framework/Versions/3.10/lib/python3.10/site-packages/sklearn/linear_model/_logistic.py:469: ConvergenceWarning: lbfgs failed to converge (status=1):\n",
      "STOP: TOTAL NO. of ITERATIONS REACHED LIMIT.\n",
      "\n",
      "Increase the number of iterations (max_iter) or scale the data as shown in:\n",
      "    https://scikit-learn.org/stable/modules/preprocessing.html\n",
      "Please also refer to the documentation for alternative solver options:\n",
      "    https://scikit-learn.org/stable/modules/linear_model.html#logistic-regression\n",
      "  n_iter_i = _check_optimize_result(\n",
      "/Library/Frameworks/Python.framework/Versions/3.10/lib/python3.10/site-packages/sklearn/model_selection/_validation.py:547: FitFailedWarning: \n",
      "15 fits failed out of a total of 30.\n",
      "The score on these train-test partitions for these parameters will be set to nan.\n",
      "If these failures are not expected, you can try to debug them by setting error_score='raise'.\n",
      "\n",
      "Below are more details about the failures:\n",
      "--------------------------------------------------------------------------------\n",
      "15 fits failed with the following error:\n",
      "Traceback (most recent call last):\n",
      "  File \"/Library/Frameworks/Python.framework/Versions/3.10/lib/python3.10/site-packages/sklearn/model_selection/_validation.py\", line 895, in _fit_and_score\n",
      "    estimator.fit(X_train, y_train, **fit_params)\n",
      "  File \"/Library/Frameworks/Python.framework/Versions/3.10/lib/python3.10/site-packages/sklearn/base.py\", line 1474, in wrapper\n",
      "    return fit_method(estimator, *args, **kwargs)\n",
      "  File \"/Library/Frameworks/Python.framework/Versions/3.10/lib/python3.10/site-packages/sklearn/linear_model/_logistic.py\", line 1172, in fit\n",
      "    solver = _check_solver(self.solver, self.penalty, self.dual)\n",
      "  File \"/Library/Frameworks/Python.framework/Versions/3.10/lib/python3.10/site-packages/sklearn/linear_model/_logistic.py\", line 67, in _check_solver\n",
      "    raise ValueError(\n",
      "ValueError: Solver lbfgs supports only 'l2' or None penalties, got l1 penalty.\n",
      "\n",
      "  warnings.warn(some_fits_failed_message, FitFailedWarning)\n",
      "/Library/Frameworks/Python.framework/Versions/3.10/lib/python3.10/site-packages/sklearn/model_selection/_search.py:1051: UserWarning: One or more of the test scores are non-finite: [       nan 0.9166            nan 0.9108     0.8867     0.91601667\n",
      " 0.91931667        nan        nan        nan]\n",
      "  warnings.warn(\n"
     ]
    },
    {
     "name": "stdout",
     "output_type": "stream",
     "text": [
      "Accuracy: 0.9253\n",
      "Classification Report:\n",
      "              precision    recall  f1-score   support\n",
      "\n",
      "           0       0.95      0.98      0.96       980\n",
      "           1       0.96      0.98      0.97      1135\n",
      "           2       0.93      0.90      0.91      1032\n",
      "           3       0.91      0.91      0.91      1010\n",
      "           4       0.93      0.94      0.93       982\n",
      "           5       0.91      0.87      0.89       892\n",
      "           6       0.94      0.95      0.94       958\n",
      "           7       0.93      0.92      0.93      1028\n",
      "           8       0.88      0.89      0.88       974\n",
      "           9       0.91      0.91      0.91      1009\n",
      "\n",
      "    accuracy                           0.93     10000\n",
      "   macro avg       0.92      0.92      0.92     10000\n",
      "weighted avg       0.93      0.93      0.93     10000\n",
      "\n",
      "Confusion Matrix:\n",
      "[[ 959    0    2    3    0    7    5    3    1    0]\n",
      " [   0 1112    2    2    0    1    4    2   12    0]\n",
      " [   6    8  926   16    9    3   13    8   36    7]\n",
      " [   4    1   17  918    0   25    3   11   21   10]\n",
      " [   1    2    5    2  919    0   10    3    9   31]\n",
      " [  10    2    3   36    9  775   16    7   29    5]\n",
      " [  10    3    6    1    8   14  911    3    2    0]\n",
      " [   1    8   24    6    9    1    0  947    2   30]\n",
      " [   7   11    7   21    9   24   11    8  865   11]\n",
      " [  11    8    1    9   24    6    0   22    7  921]]\n"
     ]
    },
    {
     "name": "stderr",
     "output_type": "stream",
     "text": [
      "/Library/Frameworks/Python.framework/Versions/3.10/lib/python3.10/site-packages/sklearn/linear_model/_logistic.py:469: ConvergenceWarning: lbfgs failed to converge (status=1):\n",
      "STOP: TOTAL NO. of ITERATIONS REACHED LIMIT.\n",
      "\n",
      "Increase the number of iterations (max_iter) or scale the data as shown in:\n",
      "    https://scikit-learn.org/stable/modules/preprocessing.html\n",
      "Please also refer to the documentation for alternative solver options:\n",
      "    https://scikit-learn.org/stable/modules/linear_model.html#logistic-regression\n",
      "  n_iter_i = _check_optimize_result(\n"
     ]
    }
   ],
   "source": [
    "import pandas as pd\n",
    "from sklearn.linear_model import LogisticRegression\n",
    "from sklearn.model_selection import RandomizedSearchCV\n",
    "\n",
    "logistic_regression = LogisticRegression()\n",
    "\n",
    "parameters = {\n",
    "    'C': [0.001, 0.01, 0.1, 1, 10, 100],  # Penalty term to reduce overfitting\n",
    "    'penalty': ['l1', 'l2']  # 'l1' for Lasso, 'l2' for Ridge)\n",
    "}\n",
    "\n",
    "lgr_grid = RandomizedSearchCV(logistic_regression, param_distributions=parameters, n_iter=10, cv=3)\n",
    "lgr_model = lgr_grid.fit(train_X_2d, train_y)\n",
    "\n",
    "best_lgr_model = lgr_model.best_estimator_\n",
    "lgr_predict = best_lgr_model.predict(test_X_2d)\n",
    "\n",
    "\n",
    "from sklearn.metrics import accuracy_score, classification_report, confusion_matrix\n",
    "\n",
    "accuracy = accuracy_score(test_y, lgr_predict)\n",
    "print(\"Accuracy:\", accuracy)\n",
    "\n",
    "print(\"Classification Report:\")\n",
    "print(classification_report(test_y, lgr_predict))\n",
    "\n",
    "print(\"Confusion Matrix:\")\n",
    "print(confusion_matrix(test_y, lgr_predict))"
   ]
  },
  {
   "cell_type": "code",
   "execution_count": 34,
   "id": "dee18624",
   "metadata": {},
   "outputs": [
    {
     "name": "stdout",
     "output_type": "stream",
     "text": [
      "{'penalty': 'l2', 'C': 0.1}\n"
     ]
    }
   ],
   "source": [
    "print(lgr_grid.best_params_)"
   ]
  },
  {
   "cell_type": "code",
   "execution_count": 107,
   "id": "bd9d7466",
   "metadata": {},
   "outputs": [
    {
     "name": "stdout",
     "output_type": "stream",
     "text": [
      "+---+---------+---------------+--------------------+\n",
      "|   | param_C | param_penalty |  mean_test_score   |\n",
      "+---+---------+---------------+--------------------+\n",
      "| 0 |   0.1   |      l1       |        nan         |\n",
      "| 1 |   100   |      l2       | 0.9160166666666667 |\n",
      "| 2 |  0.001  |      l1       |        nan         |\n",
      "| 3 |  0.001  |      l2       | 0.8866999999999999 |\n",
      "| 4 |   10    |      l1       |        nan         |\n",
      "| 5 |    1    |      l2       | 0.9181333333333334 |\n",
      "| 6 |   10    |      l2       |       0.9166       |\n",
      "| 7 |    1    |      l1       |        nan         |\n",
      "| 8 |  0.01   |      l1       |        nan         |\n",
      "| 9 |  0.01   |      l2       |       0.9108       |\n",
      "+---+---------+---------------+--------------------+\n"
     ]
    }
   ],
   "source": [
    "from tabulate import tabulate\n",
    "lgr_df = pd.DataFrame(lgr_grid.cv_results_)\n",
    "lgr_subset_df = lgr_df[['param_C','param_penalty','mean_test_score']]\n",
    "lgr_table = tabulate(lgr_subset_df, headers='keys', tablefmt='pretty')\n",
    "print(lgr_table)"
   ]
  },
  {
   "cell_type": "code",
   "execution_count": null,
   "id": "ca47401f",
   "metadata": {},
   "outputs": [],
   "source": []
  },
  {
   "cell_type": "code",
   "execution_count": null,
   "id": "8cef9154",
   "metadata": {},
   "outputs": [],
   "source": [
    "# SVM"
   ]
  },
  {
   "cell_type": "code",
   "execution_count": 32,
   "id": "3ffa04ec",
   "metadata": {},
   "outputs": [
    {
     "name": "stdout",
     "output_type": "stream",
     "text": [
      "Accuracy: 0.9595\n",
      "Classification Report:\n",
      "              precision    recall  f1-score   support\n",
      "\n",
      "           0       0.97      0.99      0.98       980\n",
      "           1       0.98      0.99      0.98      1135\n",
      "           2       0.96      0.95      0.95      1032\n",
      "           3       0.95      0.96      0.96      1010\n",
      "           4       0.95      0.96      0.96       982\n",
      "           5       0.96      0.95      0.95       892\n",
      "           6       0.96      0.97      0.97       958\n",
      "           7       0.97      0.94      0.95      1028\n",
      "           8       0.95      0.95      0.95       974\n",
      "           9       0.95      0.93      0.94      1009\n",
      "\n",
      "    accuracy                           0.96     10000\n",
      "   macro avg       0.96      0.96      0.96     10000\n",
      "weighted avg       0.96      0.96      0.96     10000\n",
      "\n",
      "Confusion Matrix:\n",
      "[[ 969    0    2    0    0    4    3    1    1    0]\n",
      " [   0 1122    3    2    0    1    3    1    3    0]\n",
      " [   6    0  982    8    8    0    5    9   14    0]\n",
      " [   0    0    9  967    0   12    0    9   10    3]\n",
      " [   1    1    3    0  947    0    7    2    2   19]\n",
      " [   6    1    2   15    3  844   11    1    7    2]\n",
      " [   9    3    2    0    4    6  931    0    3    0]\n",
      " [   0   10   19    2    3    0    0  967    4   23]\n",
      " [   4    0    3   10    7   11    6    6  924    3]\n",
      " [   7    7    1   10   25    5    1    6    5  942]]\n"
     ]
    }
   ],
   "source": [
    "from sklearn import svm\n",
    "\n",
    "SVM = svm.SVC()\n",
    "\n",
    "parameters = {\n",
    "    'C': [0.1, 1, 10],  # Regularization parameter\n",
    "    'kernel': ['linear', 'rbf','sigmoid'],  # Kernel type\n",
    "}\n",
    "\n",
    "svmc_grid = RandomizedSearchCV(SVM, param_distributions=parameters,n_iter=6, cv=3)\n",
    "svmc_model  = svmc_grid.fit(train_X_2d, train_y)\n",
    "\n",
    "best_svmc_model = svmc_model.best_estimator_\n",
    "\n",
    "svmc_predict = best_svmc_model.predict(test_X_2d)\n",
    "\n",
    "from sklearn.metrics import accuracy_score, classification_report, confusion_matrix\n",
    "\n",
    "accuracy = accuracy_score(test_y, svmc_predict)\n",
    "print(\"Accuracy:\", accuracy)\n",
    "\n",
    "print(\"Classification Report:\")\n",
    "print(classification_report(test_y, svmc_predict))\n",
    "\n",
    "print(\"Confusion Matrix:\")\n",
    "print(confusion_matrix(test_y, svmc_predict))"
   ]
  },
  {
   "cell_type": "code",
   "execution_count": 33,
   "id": "3c33c96a",
   "metadata": {},
   "outputs": [
    {
     "name": "stdout",
     "output_type": "stream",
     "text": [
      "{'kernel': 'rbf', 'C': 0.1}\n"
     ]
    }
   ],
   "source": [
    "print(svmc_model.best_params_)"
   ]
  },
  {
   "cell_type": "code",
   "execution_count": 108,
   "id": "ac1b4af7",
   "metadata": {},
   "outputs": [
    {
     "name": "stdout",
     "output_type": "stream",
     "text": [
      "+---+---------+--------------+--------------------+\n",
      "|   | param_C | param_kernel |  mean_test_score   |\n",
      "+---+---------+--------------+--------------------+\n",
      "| 0 |    1    |   sigmoid    |      0.77775       |\n",
      "| 1 |   10    |    linear    | 0.9202833333333333 |\n",
      "| 2 |    1    |    linear    | 0.9319166666666666 |\n",
      "| 3 |   0.1   |    linear    |      0.93995       |\n",
      "| 4 |   0.1   |     rbf      | 0.9517666666666665 |\n",
      "| 5 |   0.1   |   sigmoid    | 0.8505833333333334 |\n",
      "+---+---------+--------------+--------------------+\n"
     ]
    }
   ],
   "source": [
    "from tabulate import tabulate\n",
    "svm_df = pd.DataFrame(svm_grid.cv_results_)\n",
    "svm_subset_df = svm_df[['param_C','param_kernel','mean_test_score']]\n",
    "svm_table = tabulate(svm_subset_df, headers='keys', tablefmt='pretty')\n",
    "print(svm_table)"
   ]
  },
  {
   "cell_type": "code",
   "execution_count": 118,
   "id": "f6ddc5ef",
   "metadata": {},
   "outputs": [
    {
     "data": {
      "image/png": "[encoded data removed]",
      "text/plain": [
       "<Figure size 720x432 with 2 Axes>"
      ]
     },
     "metadata": {
      "needs_background": "light"
     },
     "output_type": "display_data"
    }
   ],
   "source": [
    "import seaborn as sns\n",
    "predictions = best_lgr_model.predict(test_X_2d)\n",
    "conf_matrix = confusion_matrix(test_y, predictions.round())\n",
    "plt.figure(figsize=(10,6))\n",
    "sns.heatmap(conf_matrix, annot=True, fmt=\"d\", cmap=\"Blues\")\n",
    "plt.title(\"Confusion Matrix\")\n",
    "plt.xlabel(\"Predicted Labels\")\n",
    "plt.ylabel(\"True Labels\")\n",
    "plt.show()"
   ]
  },
  {
   "cell_type": "code",
   "execution_count": null,
   "id": "f37875f3",
   "metadata": {},
   "outputs": [],
   "source": []
  },
  {
   "cell_type": "code",
   "execution_count": 146,
   "id": "edc8ef12",
   "metadata": {},
   "outputs": [],
   "source": [
    "# RandomForestClassifier"
   ]
  },
  {
   "cell_type": "code",
   "execution_count": 35,
   "id": "ae01ffdf",
   "metadata": {},
   "outputs": [
    {
     "name": "stdout",
     "output_type": "stream",
     "text": [
      "Best Parameters:\n",
      "{'n_estimators': 200, 'min_samples_split': 2, 'min_samples_leaf': 1, 'max_depth': 30}\n",
      "Accuracy: 0.971\n",
      "  param_n_estimators param_max_depth param_min_samples_split  \\\n",
      "0                100              10                       5   \n",
      "1                100            None                      10   \n",
      "2                200              20                       5   \n",
      "3                300              10                      10   \n",
      "4                300              10                       2   \n",
      "5                100            None                      10   \n",
      "6                200              30                      10   \n",
      "7                300            None                      10   \n",
      "8                200              20                       5   \n",
      "9                200              30                       2   \n",
      "\n",
      "  param_min_samples_leaf  mean_test_score  \n",
      "0                      2         0.942250  \n",
      "1                      4         0.958967  \n",
      "2                      1         0.964450  \n",
      "3                      1         0.944567  \n",
      "4                      1         0.945067  \n",
      "5                      1         0.961700  \n",
      "6                      2         0.961950  \n",
      "7                      2         0.962250  \n",
      "8                      2         0.963683  \n",
      "9                      1         0.965850  \n"
     ]
    }
   ],
   "source": [
    "import pandas as pd\n",
    "from sklearn.ensemble import RandomForestClassifier\n",
    "from sklearn.model_selection import RandomizedSearchCV\n",
    "from sklearn.metrics import accuracy_score\n",
    "\n",
    "random_forest = RandomForestClassifier()\n",
    "\n",
    "parameters = {\n",
    "    'n_estimators': [100, 200, 300], \n",
    "    'max_depth': [None, 10, 20, 30],  \n",
    "    'min_samples_split': [2, 5, 10], \n",
    "    'min_samples_leaf': [1, 2, 4] \n",
    "}\n",
    "\n",
    "rf_grid = RandomizedSearchCV(random_forest, param_distributions=parameters, n_iter=10, cv=3)\n",
    "rf_model = rf_grid.fit(train_X_2d, train_y)\n",
    "best_rf_model = rf_model.best_estimator_\n",
    "rf_predict = best_rf_model.predict(test_X_2d)\n",
    "\n",
    "\n",
    "\n",
    "from sklearn.metrics import accuracy_score, classification_report, confusion_matrix\n",
    "\n",
    "print(\"Best Parameters:\")\n",
    "print(rf_model.best_params_)\n",
    "\n",
    "accuracy = accuracy_score(test_y,rf_predict)\n",
    "print(\"Accuracy:\",accuracy)\n",
    "\n",
    "rf_df = pd.DataFrame(rf_model.cv_results_)\n",
    "rf_subset_df = rf_df[['param_n_estimators', 'param_max_depth', 'param_min_samples_split','param_min_samples_leaf', 'mean_test_score']]\n",
    "print(rf_subset_df)"
   ]
  },
  {
   "cell_type": "code",
   "execution_count": 151,
   "id": "001d3ac5",
   "metadata": {},
   "outputs": [],
   "source": [
    "rf_model = rf_grid.fit(train_X_2d, train_y)"
   ]
  },
  {
   "cell_type": "code",
   "execution_count": 152,
   "id": "91973232",
   "metadata": {},
   "outputs": [
    {
     "name": "stdout",
     "output_type": "stream",
     "text": [
      "+---+--------------------+-----------------+-------------------------+------------------------+--------------------+\n",
      "|   | param_n_estimators | param_max_depth | param_min_samples_split | param_min_samples_leaf |  mean_test_score   |\n",
      "+---+--------------------+-----------------+-------------------------+------------------------+--------------------+\n",
      "| 0 |        300         |                 |            5            |           1            |       0.9657       |\n",
      "| 1 |        100         |       30        |            2            |           2            | 0.9625666666666666 |\n",
      "| 2 |        200         |       20        |           10            |           2            | 0.9614333333333334 |\n",
      "| 3 |        100         |       20        |           10            |           1            | 0.9613999999999999 |\n",
      "| 4 |        100         |                 |            2            |           1            |      0.96525       |\n",
      "| 5 |        300         |       10        |            5            |           1            | 0.9448500000000001 |\n",
      "| 6 |        200         |                 |            5            |           1            | 0.9652333333333334 |\n",
      "| 7 |        100         |       20        |            2            |           4            | 0.9592833333333335 |\n",
      "| 8 |        100         |       20        |            5            |           4            | 0.9599333333333333 |\n",
      "| 9 |        200         |       20        |            5            |           2            | 0.9635666666666666 |\n",
      "+---+--------------------+-----------------+-------------------------+------------------------+--------------------+\n"
     ]
    }
   ],
   "source": [
    "from tabulate import tabulate\n",
    "\n",
    "results = pd.DataFrame(rf_model.cv_results_)\n",
    "params = results[['param_n_estimators', 'param_max_depth', 'param_min_samples_split','param_min_samples_leaf', 'mean_test_score']]\n",
    "table = tabulate(params, headers='keys', tablefmt='pretty')\n",
    "print(table)"
   ]
  },
  {
   "cell_type": "code",
   "execution_count": 119,
   "id": "7bcd252d",
   "metadata": {},
   "outputs": [
    {
     "data": {
      "image/png": "[encoded data removed]",
      "text/plain": [
       "<Figure size 720x432 with 2 Axes>"
      ]
     },
     "metadata": {
      "needs_background": "light"
     },
     "output_type": "display_data"
    }
   ],
   "source": [
    "import seaborn as sns\n",
    "\n",
    "predictions = best_rf_model.predict(test_X_2d)\n",
    "conf_matrix = confusion_matrix(test_y, predictions.round())\n",
    "\n",
    "plt.figure(figsize=(10,6))\n",
    "sns.heatmap(conf_matrix, annot=True, fmt=\"d\", cmap=\"Blues\")\n",
    "plt.title(\"Confusion Matrix\")\n",
    "plt.xlabel(\"Predicted Labels\")\n",
    "plt.ylabel(\"True Labels\")\n",
    "plt.show()"
   ]
  },
  {
   "cell_type": "code",
   "execution_count": null,
   "id": "ce8ecae9",
   "metadata": {},
   "outputs": [],
   "source": []
  },
  {
   "cell_type": "code",
   "execution_count": null,
   "id": "0df400c7",
   "metadata": {},
   "outputs": [],
   "source": []
  },
  {
   "cell_type": "code",
   "execution_count": 88,
   "id": "ad74b38d",
   "metadata": {},
   "outputs": [],
   "source": [
    "#CNN"
   ]
  },
  {
   "cell_type": "code",
   "execution_count": 89,
   "id": "d89e438d",
   "metadata": {},
   "outputs": [],
   "source": [
    "import tensorflow as tf\n",
    "from tensorflow.keras import layers, models\n",
    "from tensorflow.keras.layers import Conv2D, MaxPooling2D, Flatten, Dense"
   ]
  },
  {
   "cell_type": "code",
   "execution_count": 126,
   "id": "0cac222f",
   "metadata": {},
   "outputs": [
    {
     "name": "stdout",
     "output_type": "stream",
     "text": [
      "Epoch 1/5\n",
      "938/938 [==============================] - 30s 31ms/step - loss: 0.2599 - accuracy: 0.9432 - val_loss: 0.0799 - val_accuracy: 0.9793\n",
      "Epoch 2/5\n",
      "938/938 [==============================] - 27s 29ms/step - loss: 0.0662 - accuracy: 0.9827 - val_loss: 0.0615 - val_accuracy: 0.9825\n",
      "Epoch 3/5\n",
      "938/938 [==============================] - 32s 34ms/step - loss: 0.0455 - accuracy: 0.9876 - val_loss: 0.0361 - val_accuracy: 0.9896\n",
      "Epoch 4/5\n",
      "938/938 [==============================] - 33s 35ms/step - loss: 0.0357 - accuracy: 0.9901 - val_loss: 0.0519 - val_accuracy: 0.9838\n",
      "Epoch 5/5\n",
      "938/938 [==============================] - 29s 31ms/step - loss: 0.0307 - accuracy: 0.9914 - val_loss: 0.0407 - val_accuracy: 0.9876\n",
      "313/313 [==============================] - 1s 5ms/step - loss: 0.0407 - accuracy: 0.9876\n",
      "Epoch 1/5\n",
      "938/938 [==============================] - 30s 31ms/step - loss: 0.1945 - accuracy: 0.9488 - val_loss: 0.0541 - val_accuracy: 0.9855\n",
      "Epoch 2/5\n",
      "938/938 [==============================] - 28s 30ms/step - loss: 0.0554 - accuracy: 0.9839 - val_loss: 0.0451 - val_accuracy: 0.9866\n",
      "Epoch 3/5\n",
      "938/938 [==============================] - 31s 33ms/step - loss: 0.0415 - accuracy: 0.9875 - val_loss: 0.0376 - val_accuracy: 0.9885\n",
      "Epoch 4/5\n",
      "938/938 [==============================] - 25s 27ms/step - loss: 0.0284 - accuracy: 0.9919 - val_loss: 0.0352 - val_accuracy: 0.9881\n",
      "Epoch 5/5\n",
      "938/938 [==============================] - 27s 29ms/step - loss: 0.0253 - accuracy: 0.9922 - val_loss: 0.0360 - val_accuracy: 0.9891\n",
      "313/313 [==============================] - 2s 5ms/step - loss: 0.0360 - accuracy: 0.9891\n",
      "Epoch 1/5\n",
      "938/938 [==============================] - 31s 32ms/step - loss: 0.1622 - accuracy: 0.9537 - val_loss: 0.0505 - val_accuracy: 0.9851\n",
      "Epoch 2/5\n",
      "938/938 [==============================] - 28s 30ms/step - loss: 0.0521 - accuracy: 0.9847 - val_loss: 0.0403 - val_accuracy: 0.9868\n",
      "Epoch 3/5\n",
      "938/938 [==============================] - 28s 30ms/step - loss: 0.0370 - accuracy: 0.9888 - val_loss: 0.0336 - val_accuracy: 0.9890\n",
      "Epoch 4/5\n",
      "938/938 [==============================] - 28s 30ms/step - loss: 0.0298 - accuracy: 0.9908 - val_loss: 0.0327 - val_accuracy: 0.9890\n",
      "Epoch 5/5\n",
      "938/938 [==============================] - 31s 33ms/step - loss: 0.0228 - accuracy: 0.9933 - val_loss: 0.0327 - val_accuracy: 0.9902\n",
      "313/313 [==============================] - 2s 5ms/step - loss: 0.0327 - accuracy: 0.9902\n",
      "Epoch 1/5\n",
      "938/938 [==============================] - 31s 32ms/step - loss: 1.1846 - accuracy: 0.6497 - val_loss: 0.3069 - val_accuracy: 0.9474\n",
      "Epoch 2/5\n",
      "938/938 [==============================] - 31s 33ms/step - loss: 0.2046 - accuracy: 0.9586 - val_loss: 0.1292 - val_accuracy: 0.9733\n",
      "Epoch 3/5\n",
      "938/938 [==============================] - 27s 29ms/step - loss: 0.1149 - accuracy: 0.9726 - val_loss: 0.0836 - val_accuracy: 0.9781\n",
      "Epoch 4/5\n",
      "938/938 [==============================] - 28s 30ms/step - loss: 0.0826 - accuracy: 0.9783 - val_loss: 0.0703 - val_accuracy: 0.9818\n",
      "Epoch 5/5\n",
      "938/938 [==============================] - 28s 30ms/step - loss: 0.0656 - accuracy: 0.9826 - val_loss: 0.0620 - val_accuracy: 0.9822\n",
      "313/313 [==============================] - 1s 5ms/step - loss: 0.0620 - accuracy: 0.9822\n",
      "Epoch 1/5\n",
      "938/938 [==============================] - 30s 31ms/step - loss: 1.0513 - accuracy: 0.6647 - val_loss: 0.2511 - val_accuracy: 0.9375\n",
      "Epoch 2/5\n",
      "938/938 [==============================] - 27s 29ms/step - loss: 0.1822 - accuracy: 0.9524 - val_loss: 0.1379 - val_accuracy: 0.9613\n",
      "Epoch 3/5\n",
      "938/938 [==============================] - 29s 30ms/step - loss: 0.1071 - accuracy: 0.9702 - val_loss: 0.0786 - val_accuracy: 0.9762\n",
      "Epoch 4/5\n",
      "938/938 [==============================] - 28s 30ms/step - loss: 0.0800 - accuracy: 0.9770 - val_loss: 0.0665 - val_accuracy: 0.9794\n",
      "Epoch 5/5\n",
      "938/938 [==============================] - 28s 29ms/step - loss: 0.0651 - accuracy: 0.9813 - val_loss: 0.0506 - val_accuracy: 0.9847\n",
      "313/313 [==============================] - 2s 5ms/step - loss: 0.0506 - accuracy: 0.9847\n",
      "Epoch 1/5\n",
      "938/938 [==============================] - 35s 36ms/step - loss: 0.8387 - accuracy: 0.7263 - val_loss: 0.1683 - val_accuracy: 0.9549\n",
      "Epoch 2/5\n",
      "938/938 [==============================] - 30s 32ms/step - loss: 0.1353 - accuracy: 0.9616 - val_loss: 0.0859 - val_accuracy: 0.9744\n",
      "Epoch 3/5\n",
      "938/938 [==============================] - 30s 32ms/step - loss: 0.0852 - accuracy: 0.9752 - val_loss: 0.0667 - val_accuracy: 0.9793\n",
      "Epoch 4/5\n",
      "938/938 [==============================] - 31s 33ms/step - loss: 0.0639 - accuracy: 0.9809 - val_loss: 0.0542 - val_accuracy: 0.9833\n",
      "Epoch 5/5\n",
      "938/938 [==============================] - 31s 33ms/step - loss: 0.0544 - accuracy: 0.9836 - val_loss: 0.0541 - val_accuracy: 0.9825\n",
      "313/313 [==============================] - 3s 9ms/step - loss: 0.0541 - accuracy: 0.9825\n",
      "Epoch 1/5\n",
      "938/938 [==============================] - 30s 31ms/step - loss: 0.2365 - accuracy: 0.9270 - val_loss: 0.0693 - val_accuracy: 0.9795\n",
      "Epoch 2/5\n",
      "938/938 [==============================] - 33s 36ms/step - loss: 0.0647 - accuracy: 0.9807 - val_loss: 0.0480 - val_accuracy: 0.9850\n",
      "Epoch 3/5\n",
      "938/938 [==============================] - 29s 31ms/step - loss: 0.0447 - accuracy: 0.9858 - val_loss: 0.0415 - val_accuracy: 0.9872\n",
      "Epoch 4/5\n",
      "938/938 [==============================] - 27s 29ms/step - loss: 0.0352 - accuracy: 0.9893 - val_loss: 0.0375 - val_accuracy: 0.9869\n",
      "Epoch 5/5\n",
      "938/938 [==============================] - 29s 30ms/step - loss: 0.0290 - accuracy: 0.9908 - val_loss: 0.0309 - val_accuracy: 0.9898\n",
      "313/313 [==============================] - 1s 4ms/step - loss: 0.0309 - accuracy: 0.9898\n",
      "Epoch 1/5\n",
      "938/938 [==============================] - 27s 28ms/step - loss: 0.2227 - accuracy: 0.9326 - val_loss: 0.0838 - val_accuracy: 0.9745\n",
      "Epoch 2/5\n",
      "938/938 [==============================] - 27s 29ms/step - loss: 0.0606 - accuracy: 0.9806 - val_loss: 0.0408 - val_accuracy: 0.9873\n",
      "Epoch 3/5\n",
      "938/938 [==============================] - 28s 30ms/step - loss: 0.0427 - accuracy: 0.9871 - val_loss: 0.0450 - val_accuracy: 0.9865\n",
      "Epoch 4/5\n",
      "938/938 [==============================] - 26s 27ms/step - loss: 0.0332 - accuracy: 0.9896 - val_loss: 0.0361 - val_accuracy: 0.9883\n",
      "Epoch 5/5\n",
      "938/938 [==============================] - 26s 27ms/step - loss: 0.0277 - accuracy: 0.9913 - val_loss: 0.0358 - val_accuracy: 0.9886\n",
      "313/313 [==============================] - 1s 4ms/step - loss: 0.0358 - accuracy: 0.9886\n",
      "Epoch 1/5\n",
      "938/938 [==============================] - 30s 31ms/step - loss: 0.1723 - accuracy: 0.9478 - val_loss: 0.0456 - val_accuracy: 0.9856\n",
      "Epoch 2/5\n",
      "938/938 [==============================] - 29s 31ms/step - loss: 0.0495 - accuracy: 0.9847 - val_loss: 0.0344 - val_accuracy: 0.9886\n",
      "Epoch 3/5\n",
      "938/938 [==============================] - 29s 31ms/step - loss: 0.0347 - accuracy: 0.9887 - val_loss: 0.0281 - val_accuracy: 0.9910\n",
      "Epoch 4/5\n",
      "938/938 [==============================] - 28s 30ms/step - loss: 0.0274 - accuracy: 0.9910 - val_loss: 0.0265 - val_accuracy: 0.9915\n",
      "Epoch 5/5\n",
      "938/938 [==============================] - 28s 30ms/step - loss: 0.0214 - accuracy: 0.9931 - val_loss: 0.0334 - val_accuracy: 0.9889\n",
      "313/313 [==============================] - 1s 5ms/step - loss: 0.0334 - accuracy: 0.9889\n",
      "Activation function used: tanh with number of Neurons: 16 and the resulting Validation Loss: 0.04068602994084358 and  Validation Accuracy: 0.9876000285148621\n",
      "Activation function used: tanh with number of Neurons: 32 and the resulting Validation Loss: 0.036002788692712784 and  Validation Accuracy: 0.9890999794006348\n",
      "Activation function used: tanh with number of Neurons: 64 and the resulting Validation Loss: 0.03269591182470322 and  Validation Accuracy: 0.9901999831199646\n",
      "Activation function used: sigmoid with number of Neurons: 16 and the resulting Validation Loss: 0.06202317401766777 and  Validation Accuracy: 0.982200026512146\n",
      "Activation function used: sigmoid with number of Neurons: 32 and the resulting Validation Loss: 0.05056833475828171 and  Validation Accuracy: 0.9847000241279602\n",
      "Activation function used: sigmoid with number of Neurons: 64 and the resulting Validation Loss: 0.054082389920949936 and  Validation Accuracy: 0.9825000166893005\n",
      "Activation function used: relu with number of Neurons: 16 and the resulting Validation Loss: 0.030883818864822388 and  Validation Accuracy: 0.989799976348877\n",
      "Activation function used: relu with number of Neurons: 32 and the resulting Validation Loss: 0.03578744828701019 and  Validation Accuracy: 0.9886000156402588\n",
      "Activation function used: relu with number of Neurons: 64 and the resulting Validation Loss: 0.03336676210165024 and  Validation Accuracy: 0.9889000058174133\n"
     ]
    }
   ],
   "source": [
    "from tensorflow.keras import layers, models\n",
    "\n",
    "def cnn_model(activation_function, number_neurons):\n",
    "    model = models.Sequential([\n",
    "        layers.Reshape((28, 28, 1), input_shape=(28, 28)),\n",
    "        layers.Conv2D(32, (3, 3), activation=activation_function),\n",
    "        layers.MaxPooling2D((2, 2)),\n",
    "        layers.Conv2D(64, (3, 3), activation=activation_function),\n",
    "        layers.MaxPooling2D((2, 2)),\n",
    "        layers.Conv2D(64, (3, 3), activation=activation_function),\n",
    "        layers.Flatten(),\n",
    "        layers.Dense(number_neurons, activation=activation_function),\n",
    "        layers.Dense(10, activation='softmax')\n",
    "    ])\n",
    "    \n",
    "    model.compile(optimizer='adam',\n",
    "                  loss='sparse_categorical_crossentropy', \n",
    "                  metrics=['accuracy'])\n",
    "    \n",
    "    return model\n",
    "\n",
    "def train_cnn_model(model, train_X, train_y, test_X, test_y, epochs=5, batch_size=64):\n",
    "    history = model.fit(train_X, train_y, epochs=epochs, batch_size=batch_size, validation_data=(test_X, test_y))\n",
    "    return history\n",
    "\n",
    "\n",
    "\n",
    "activation_function = ['tanh', 'sigmoid','relu']\n",
    "number_neurons = [16,32,64]\n",
    "\n",
    "results = {}\n",
    "\n",
    "for i in activation_function:\n",
    "    for j in number_neurons:\n",
    "        model = cnn_model(i, j)\n",
    "        history = train_cnn_model(model, train_X, train_y, test_X, test_y, epochs=5, batch_size=64)\n",
    "        loss, accuracy = model.evaluate(test_X, test_y)\n",
    "        results[(i, j)] = (loss, accuracy)\n",
    "\n",
    "for (k, l), (m, n) in results.items():\n",
    "    print(f\"Activation function used: {k} with number of Neurons: {l} and the resulting Validation Loss: {m} and  Validation Accuracy: {n}\")"
   ]
  },
  {
   "cell_type": "code",
   "execution_count": 131,
   "id": "80cfc038",
   "metadata": {},
   "outputs": [
    {
     "name": "stdout",
     "output_type": "stream",
     "text": [
      "+-----------------------+---------------------+-------------------+-----------------------+\n",
      "| Activation Function   |   Number of Neurons |   Validation Loss |   Validation Accuracy |\n",
      "+=======================+=====================+===================+=======================+\n",
      "| tanh                  |                  16 |         0.040686  |                0.9876 |\n",
      "+-----------------------+---------------------+-------------------+-----------------------+\n",
      "| tanh                  |                  32 |         0.0360028 |                0.9891 |\n",
      "+-----------------------+---------------------+-------------------+-----------------------+\n",
      "| tanh                  |                  64 |         0.0326959 |                0.9902 |\n",
      "+-----------------------+---------------------+-------------------+-----------------------+\n",
      "| sigmoid               |                  16 |         0.0620232 |                0.9822 |\n",
      "+-----------------------+---------------------+-------------------+-----------------------+\n",
      "| sigmoid               |                  32 |         0.0505683 |                0.9847 |\n",
      "+-----------------------+---------------------+-------------------+-----------------------+\n",
      "| sigmoid               |                  64 |         0.0540824 |                0.9825 |\n",
      "+-----------------------+---------------------+-------------------+-----------------------+\n",
      "| relu                  |                  16 |         0.0308838 |                0.9898 |\n",
      "+-----------------------+---------------------+-------------------+-----------------------+\n",
      "| relu                  |                  32 |         0.0357874 |                0.9886 |\n",
      "+-----------------------+---------------------+-------------------+-----------------------+\n",
      "| relu                  |                  64 |         0.0333668 |                0.9889 |\n",
      "+-----------------------+---------------------+-------------------+-----------------------+\n"
     ]
    }
   ],
   "source": [
    "from tabulate import tabulate\n",
    "cnn_trials = []\n",
    "\n",
    "for (k, l), (m, n) in results.items():\n",
    "    cnn_trials.append([k, l, m, n])\n",
    "    \n",
    "titles = [\"Activation Function\", \"Number of Neurons\", \"Validation Loss\", \"Validation Accuracy\"]\n",
    "print(tabulate(cnn_trials, headers=titles, tablefmt=\"grid\"))"
   ]
  },
  {
   "cell_type": "code",
   "execution_count": null,
   "id": "23630f86",
   "metadata": {},
   "outputs": [],
   "source": []
  },
  {
   "cell_type": "code",
   "execution_count": null,
   "id": "c9659fcf",
   "metadata": {},
   "outputs": [],
   "source": []
  }
 ],
 "metadata": {
  "kernelspec": {
   "display_name": "Python 3 (ipykernel)",
   "language": "python",
   "name": "python3"
  },
  "language_info": {
   "codemirror_mode": {
    "name": "ipython",
    "version": 3
   },
   "file_extension": ".py",
   "mimetype": "text/x-python",
   "name": "python",
   "nbconvert_exporter": "python",
   "pygments_lexer": "ipython3",
   "version": "3.10.1"
  }
 },
 "nbformat": 4,
 "nbformat_minor": 5
}
